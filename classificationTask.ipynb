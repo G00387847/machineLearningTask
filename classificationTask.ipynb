{
 "cells": [
  {
   "cell_type": "markdown",
   "metadata": {},
   "source": [
    "# Classification Analysis on Wine Data set\n",
    "\n",
    "********"
   ]
  },
  {
   "cell_type": "code",
   "execution_count": 4,
   "metadata": {},
   "outputs": [],
   "source": [
    "# Numerical arrays.\n",
    "import numpy as np\n",
    "\n",
    "# Data frames.\n",
    "import pandas as pd\n",
    "\n",
    "# Plotting.\n",
    "import matplotlib.pyplot as plt\n",
    "\n",
    "# Logistic regression.\n",
    "import sklearn.linear_model as lm\n",
    "\n",
    "# K nearest neaighbours.\n",
    "import sklearn.neighbors as nei\n",
    "\n",
    "# Helper functions.\n",
    "import sklearn.model_selection as mod\n",
    "\n",
    "# Fancier, statistical plots.\n",
    "import seaborn as sns"
   ]
  },
  {
   "cell_type": "code",
   "execution_count": 5,
   "metadata": {},
   "outputs": [],
   "source": [
    "# Standard plot size.\n",
    "plt.rcParams['figure.figsize'] = (15, 10)\n",
    "\n",
    "# Standard colour scheme.\n",
    "plt.style.use('ggplot')"
   ]
  },
  {
   "cell_type": "markdown",
   "metadata": {},
   "source": [
    "## Wine Quality Dataset\n",
    "\n",
    "*********"
   ]
  },
  {
   "cell_type": "code",
   "execution_count": 9,
   "metadata": {},
   "outputs": [],
   "source": [
    "# Loading the dataset and printing out a few lines to get a better understanding of the data\n",
    "red_wine=pd.read_csv(\"winequality-red.csv\",sep=\";\")\n",
    "white_wine=pd.read_csv(\"winequality-white.csv\",sep=\";\")"
   ]
  },
  {
   "cell_type": "markdown",
   "metadata": {},
   "source": [
    "## Visualisation\n",
    "\n",
    "*****"
   ]
  },
  {
   "cell_type": "code",
   "execution_count": null,
   "metadata": {},
   "outputs": [],
   "source": []
  }
 ],
 "metadata": {
  "kernelspec": {
   "display_name": "Python 3",
   "language": "python",
   "name": "python3"
  },
  "language_info": {
   "codemirror_mode": {
    "name": "ipython",
    "version": 3
   },
   "file_extension": ".py",
   "mimetype": "text/x-python",
   "name": "python",
   "nbconvert_exporter": "python",
   "pygments_lexer": "ipython3",
   "version": "3.8.3"
  }
 },
 "nbformat": 4,
 "nbformat_minor": 4
}
